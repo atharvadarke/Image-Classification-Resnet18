{
 "cells": [
  {
   "cell_type": "code",
   "execution_count": 2,
   "id": "0788e9a8-5d7a-462a-a155-33c3a673656e",
   "metadata": {},
   "outputs": [],
   "source": [
    "import tensorflow as tf\n",
    "from tensorflow import keras\n",
    "from tensorflow.keras import models\n",
    "import os"
   ]
  },
  {
   "cell_type": "code",
   "execution_count": 3,
   "id": "86f2df22-34bc-47ae-ad48-e4ec5bc08e9f",
   "metadata": {},
   "outputs": [
    {
     "name": "stderr",
     "output_type": "stream",
     "text": [
      "WARNING:absl:Compiled the loaded model, but the compiled metrics have yet to be built. `model.compile_metrics` will be empty until you train or evaluate the model.\n"
     ]
    }
   ],
   "source": [
    "resnet_model = tf.keras.models.load_model('Resnet_18_model.h5')"
   ]
  },
  {
   "cell_type": "code",
   "execution_count": 4,
   "id": "34fb9c22-80b3-4a08-995f-9a2c44579aee",
   "metadata": {},
   "outputs": [
    {
     "name": "stdout",
     "output_type": "stream",
     "text": [
      "INFO:tensorflow:Assets written to: C:\\Users\\ATHARV~1\\AppData\\Local\\Temp\\tmpk7h8bgc9\\assets\n"
     ]
    },
    {
     "name": "stderr",
     "output_type": "stream",
     "text": [
      "INFO:tensorflow:Assets written to: C:\\Users\\ATHARV~1\\AppData\\Local\\Temp\\tmpk7h8bgc9\\assets\n"
     ]
    },
    {
     "name": "stdout",
     "output_type": "stream",
     "text": [
      "Saved artifact at 'C:\\Users\\ATHARV~1\\AppData\\Local\\Temp\\tmpk7h8bgc9'. The following endpoints are available:\n",
      "\n",
      "* Endpoint 'serve'\n",
      "  args_0 (POSITIONAL_ONLY): TensorSpec(shape=(None, 32, 32, 3), dtype=tf.float32, name='input_layer_1')\n",
      "Output Type:\n",
      "  TensorSpec(shape=(None, 10), dtype=tf.float32, name=None)\n",
      "Captures:\n",
      "  2681295235280: TensorSpec(shape=(), dtype=tf.resource, name=None)\n",
      "  2681295236048: TensorSpec(shape=(), dtype=tf.resource, name=None)\n",
      "  2681295237392: TensorSpec(shape=(), dtype=tf.resource, name=None)\n",
      "  2681295237968: TensorSpec(shape=(), dtype=tf.resource, name=None)\n",
      "  2681295237008: TensorSpec(shape=(), dtype=tf.resource, name=None)\n",
      "  2681295237200: TensorSpec(shape=(), dtype=tf.resource, name=None)\n",
      "  2681295239120: TensorSpec(shape=(), dtype=tf.resource, name=None)\n",
      "  2681295235856: TensorSpec(shape=(), dtype=tf.resource, name=None)\n",
      "  2681295234128: TensorSpec(shape=(), dtype=tf.resource, name=None)\n",
      "  2681295233552: TensorSpec(shape=(), dtype=tf.resource, name=None)\n",
      "  2681295236816: TensorSpec(shape=(), dtype=tf.resource, name=None)\n",
      "  2681295236624: TensorSpec(shape=(), dtype=tf.resource, name=None)\n",
      "  2681295241040: TensorSpec(shape=(), dtype=tf.resource, name=None)\n",
      "  2681295240464: TensorSpec(shape=(), dtype=tf.resource, name=None)\n",
      "  2681472598288: TensorSpec(shape=(), dtype=tf.resource, name=None)\n",
      "  2681472598480: TensorSpec(shape=(), dtype=tf.resource, name=None)\n",
      "  2681295235664: TensorSpec(shape=(), dtype=tf.resource, name=None)\n",
      "  2681472598672: TensorSpec(shape=(), dtype=tf.resource, name=None)\n",
      "  2681472600592: TensorSpec(shape=(), dtype=tf.resource, name=None)\n",
      "  2681472598096: TensorSpec(shape=(), dtype=tf.resource, name=None)\n",
      "  2681472599248: TensorSpec(shape=(), dtype=tf.resource, name=None)\n",
      "  2681472599632: TensorSpec(shape=(), dtype=tf.resource, name=None)\n",
      "  2681472600208: TensorSpec(shape=(), dtype=tf.resource, name=None)\n",
      "  2681472600016: TensorSpec(shape=(), dtype=tf.resource, name=None)\n",
      "  2681472602896: TensorSpec(shape=(), dtype=tf.resource, name=None)\n",
      "  2681472600400: TensorSpec(shape=(), dtype=tf.resource, name=None)\n",
      "  2681472601552: TensorSpec(shape=(), dtype=tf.resource, name=None)\n",
      "  2681472601936: TensorSpec(shape=(), dtype=tf.resource, name=None)\n",
      "  2681472602512: TensorSpec(shape=(), dtype=tf.resource, name=None)\n",
      "  2681472602320: TensorSpec(shape=(), dtype=tf.resource, name=None)\n",
      "  2681472605200: TensorSpec(shape=(), dtype=tf.resource, name=None)\n",
      "  2681472602704: TensorSpec(shape=(), dtype=tf.resource, name=None)\n",
      "  2681472603856: TensorSpec(shape=(), dtype=tf.resource, name=None)\n",
      "  2681472604240: TensorSpec(shape=(), dtype=tf.resource, name=None)\n",
      "  2681472604816: TensorSpec(shape=(), dtype=tf.resource, name=None)\n",
      "  2681472604624: TensorSpec(shape=(), dtype=tf.resource, name=None)\n",
      "  2681472607504: TensorSpec(shape=(), dtype=tf.resource, name=None)\n",
      "  2681472605008: TensorSpec(shape=(), dtype=tf.resource, name=None)\n",
      "  2681472606160: TensorSpec(shape=(), dtype=tf.resource, name=None)\n",
      "  2681472606544: TensorSpec(shape=(), dtype=tf.resource, name=None)\n",
      "  2681472607120: TensorSpec(shape=(), dtype=tf.resource, name=None)\n",
      "  2681472606928: TensorSpec(shape=(), dtype=tf.resource, name=None)\n",
      "  2681472609808: TensorSpec(shape=(), dtype=tf.resource, name=None)\n",
      "  2681472607312: TensorSpec(shape=(), dtype=tf.resource, name=None)\n",
      "  2681472610576: TensorSpec(shape=(), dtype=tf.resource, name=None)\n",
      "  2681472609424: TensorSpec(shape=(), dtype=tf.resource, name=None)\n",
      "  2681472608464: TensorSpec(shape=(), dtype=tf.resource, name=None)\n",
      "  2681472608848: TensorSpec(shape=(), dtype=tf.resource, name=None)\n",
      "  2681472610192: TensorSpec(shape=(), dtype=tf.resource, name=None)\n",
      "  2681472609616: TensorSpec(shape=(), dtype=tf.resource, name=None)\n",
      "  2681472612880: TensorSpec(shape=(), dtype=tf.resource, name=None)\n",
      "  2681472610384: TensorSpec(shape=(), dtype=tf.resource, name=None)\n",
      "  2681472611536: TensorSpec(shape=(), dtype=tf.resource, name=None)\n",
      "  2681472611920: TensorSpec(shape=(), dtype=tf.resource, name=None)\n",
      "  2681472612496: TensorSpec(shape=(), dtype=tf.resource, name=None)\n",
      "  2681472612304: TensorSpec(shape=(), dtype=tf.resource, name=None)\n",
      "  2681472613456: TensorSpec(shape=(), dtype=tf.resource, name=None)\n",
      "  2681472713360: TensorSpec(shape=(), dtype=tf.resource, name=None)\n",
      "  2681472712976: TensorSpec(shape=(), dtype=tf.resource, name=None)\n",
      "  2681472713552: TensorSpec(shape=(), dtype=tf.resource, name=None)\n",
      "  2681472712784: TensorSpec(shape=(), dtype=tf.resource, name=None)\n",
      "  2681472713168: TensorSpec(shape=(), dtype=tf.resource, name=None)\n",
      "  2681472715856: TensorSpec(shape=(), dtype=tf.resource, name=None)\n",
      "  2681472713744: TensorSpec(shape=(), dtype=tf.resource, name=None)\n",
      "  2681472714512: TensorSpec(shape=(), dtype=tf.resource, name=None)\n",
      "  2681472714896: TensorSpec(shape=(), dtype=tf.resource, name=None)\n",
      "  2681472715472: TensorSpec(shape=(), dtype=tf.resource, name=None)\n",
      "  2681472715280: TensorSpec(shape=(), dtype=tf.resource, name=None)\n",
      "  2681472718160: TensorSpec(shape=(), dtype=tf.resource, name=None)\n",
      "  2681472715664: TensorSpec(shape=(), dtype=tf.resource, name=None)\n",
      "  2681472718928: TensorSpec(shape=(), dtype=tf.resource, name=None)\n",
      "  2681472717776: TensorSpec(shape=(), dtype=tf.resource, name=None)\n",
      "  2681472716816: TensorSpec(shape=(), dtype=tf.resource, name=None)\n",
      "  2681472717200: TensorSpec(shape=(), dtype=tf.resource, name=None)\n",
      "  2681472718544: TensorSpec(shape=(), dtype=tf.resource, name=None)\n",
      "  2681472717968: TensorSpec(shape=(), dtype=tf.resource, name=None)\n",
      "  2681472721232: TensorSpec(shape=(), dtype=tf.resource, name=None)\n",
      "  2681472718736: TensorSpec(shape=(), dtype=tf.resource, name=None)\n",
      "  2681472719888: TensorSpec(shape=(), dtype=tf.resource, name=None)\n",
      "  2681472720272: TensorSpec(shape=(), dtype=tf.resource, name=None)\n",
      "  2681472720848: TensorSpec(shape=(), dtype=tf.resource, name=None)\n",
      "  2681472720656: TensorSpec(shape=(), dtype=tf.resource, name=None)\n",
      "  2681472723536: TensorSpec(shape=(), dtype=tf.resource, name=None)\n",
      "  2681472721040: TensorSpec(shape=(), dtype=tf.resource, name=None)\n",
      "  2681472722192: TensorSpec(shape=(), dtype=tf.resource, name=None)\n",
      "  2681472722576: TensorSpec(shape=(), dtype=tf.resource, name=None)\n",
      "  2681472723152: TensorSpec(shape=(), dtype=tf.resource, name=None)\n",
      "  2681472722960: TensorSpec(shape=(), dtype=tf.resource, name=None)\n",
      "  2681472725840: TensorSpec(shape=(), dtype=tf.resource, name=None)\n",
      "  2681472723344: TensorSpec(shape=(), dtype=tf.resource, name=None)\n",
      "  2681472724496: TensorSpec(shape=(), dtype=tf.resource, name=None)\n",
      "  2681472724880: TensorSpec(shape=(), dtype=tf.resource, name=None)\n",
      "  2681472725456: TensorSpec(shape=(), dtype=tf.resource, name=None)\n",
      "  2681472725264: TensorSpec(shape=(), dtype=tf.resource, name=None)\n",
      "  2681472728144: TensorSpec(shape=(), dtype=tf.resource, name=None)\n",
      "  2681472725648: TensorSpec(shape=(), dtype=tf.resource, name=None)\n",
      "  2681472728912: TensorSpec(shape=(), dtype=tf.resource, name=None)\n",
      "  2681472727184: TensorSpec(shape=(), dtype=tf.resource, name=None)\n",
      "  2681472942736: TensorSpec(shape=(), dtype=tf.resource, name=None)\n",
      "  2681472942352: TensorSpec(shape=(), dtype=tf.resource, name=None)\n",
      "  2681472728528: TensorSpec(shape=(), dtype=tf.resource, name=None)\n",
      "  2681472727760: TensorSpec(shape=(), dtype=tf.resource, name=None)\n",
      "  2681472944272: TensorSpec(shape=(), dtype=tf.resource, name=None)\n",
      "  2681472942544: TensorSpec(shape=(), dtype=tf.resource, name=None)\n",
      "  2681472942928: TensorSpec(shape=(), dtype=tf.resource, name=None)\n",
      "  2681472943312: TensorSpec(shape=(), dtype=tf.resource, name=None)\n",
      "  2681472943888: TensorSpec(shape=(), dtype=tf.resource, name=None)\n",
      "  2681472943696: TensorSpec(shape=(), dtype=tf.resource, name=None)\n",
      "  2681472945616: TensorSpec(shape=(), dtype=tf.resource, name=None)\n",
      "  2681472946192: TensorSpec(shape=(), dtype=tf.resource, name=None)\n"
     ]
    },
    {
     "data": {
      "text/plain": [
       "44723856"
      ]
     },
     "execution_count": 4,
     "metadata": {},
     "output_type": "execute_result"
    }
   ],
   "source": [
    "# Converting the resnet18 tensorflow model to tensorflow lite model\n",
    "converter = tf.lite.TFLiteConverter.from_keras_model(resnet_model)\n",
    "Resnet_18_tflite = converter.convert()\n",
    "open('Resnet_18_model.tflite','wb').write(Resnet_18_tflite)"
   ]
  },
  {
   "cell_type": "code",
   "execution_count": 16,
   "id": "9fe6ff40-971e-4197-adb2-66e69e57bc3d",
   "metadata": {},
   "outputs": [
    {
     "data": {
      "text/plain": [
       "42.65199279785156"
      ]
     },
     "execution_count": 16,
     "metadata": {},
     "output_type": "execute_result"
    }
   ],
   "source": [
    "h5_size = os.path.getsize('Resnet_18_model.h5')\n",
    "tflite_size = os.path.getsize('Resnet_18_model.tflite')\n",
    "MB = tflite_size/(1024*1024)\n",
    "\n",
    "MB"
   ]
  },
  {
   "cell_type": "code",
   "execution_count": 25,
   "id": "c559bb9f-98f7-41de-b558-732c86942258",
   "metadata": {},
   "outputs": [
    {
     "name": "stderr",
     "output_type": "stream",
     "text": [
      "WARNING:absl:Compiled the loaded model, but the compiled metrics have yet to be built. `model.compile_metrics` will be empty until you train or evaluate the model.\n"
     ]
    },
    {
     "name": "stdout",
     "output_type": "stream",
     "text": [
      "\u001b[1m1/1\u001b[0m \u001b[32m━━━━━━━━━━━━━━━━━━━━\u001b[0m\u001b[37m\u001b[0m \u001b[1m1s\u001b[0m 849ms/step\n",
      "H5 Model Prediction: 7 \n",
      "class: horse\n",
      "TFLite Model Prediction: 7 \n",
      "Predicted class: horse\n",
      " [[5.2472547e-08 1.4291823e-09 1.5779995e-07 1.3531459e-07 4.9616285e-02\n",
      "  7.2096562e-04 2.7177251e-07 9.4966203e-01 3.8483533e-10 3.6966259e-08]]\n"
     ]
    }
   ],
   "source": [
    "import tensorflow as tf\n",
    "import numpy as np\n",
    "from tensorflow.keras.preprocessing.image import load_img, img_to_array\n",
    "\n",
    "class_cifer10 = [\"airplane\",\"automobile\",\"bird\",\"cat\",\"deer\",\"dog\",\"frog\",\"horse\",\"ship\",\"truck\"]\n",
    "# Load and preprocess a random image\n",
    "def preprocess_image(image_path, target_size):\n",
    "    image = load_img(image_path, target_size=target_size)\n",
    "    image = img_to_array(image)\n",
    "    image = image / 255.0  # Normalize to [0, 1]\n",
    "    image = np.expand_dims(image, axis=0)  # Add batch dimension\n",
    "    return image\n",
    "\n",
    "# Test the H5 model\n",
    "def test_h5_model(h5_model_path, image_path):\n",
    "    # Load the model\n",
    "    model = tf.keras.models.load_model(h5_model_path)\n",
    "    \n",
    "    # Preprocess the image\n",
    "    input_size = (32, 32)  # CIFAR-10 image size\n",
    "    image = preprocess_image(image_path, target_size=input_size)\n",
    "\n",
    "    # Make prediction\n",
    "    class_cifer10 = [\"airplane\",\"automobile\",\"bird\",\"cat\",\"deer\",\"dog\",\"frog\",\"horse\",\"ship\",\"truck\"]\n",
    "    predictions = model.predict(image)\n",
    "    predicted_class = np.argmax(predictions)\n",
    "    print(f\"H5 Model Prediction: {predicted_class} \\nclass: {class_cifer10[predicted_class]}\")\n",
    "\n",
    "# Test the TFLite model\n",
    "def test_tflite_model(tflite_model_path, image_path):\n",
    "    # Load the TFLite model\n",
    "    interpreter = tf.lite.Interpreter(model_path=tflite_model_path)\n",
    "    interpreter.allocate_tensors()\n",
    "\n",
    "    # Get input and output details\n",
    "    input_details = interpreter.get_input_details()\n",
    "    output_details = interpreter.get_output_details()\n",
    "\n",
    "    # Preprocess the image\n",
    "    input_size = tuple(input_details[0]['shape'][1:3])  # Extract input size from model\n",
    "    image = preprocess_image(image_path, target_size=input_size)\n",
    "\n",
    "    # Set the tensor\n",
    "    interpreter.set_tensor(input_details[0]['index'], image)\n",
    "\n",
    "    # Run inference\n",
    "    interpreter.invoke()\n",
    "    output_data = interpreter.get_tensor(output_details[0]['index'])\n",
    "    \n",
    "    \n",
    "    predicted_class = np.argmax(output_data)\n",
    "    print(f\"TFLite Model Prediction: {predicted_class} \\nPredicted class: {class_cifer10[predicted_class]}\\n {output_data}\")\n",
    "\n",
    "if __name__ == \"__main__\":\n",
    "    # Paths to models and test image\n",
    "    h5_model_path = \"Resnet_18_model.h5\"\n",
    "    tflite_model_path = \"Resnet_18_model.tflite\"\n",
    "    test_image_path = r\"C:\\Users\\Atharva Darke\\Desktop\\pexels-photo-6696645.jpeg\"  # Replace with the path to your test image\n",
    "\n",
    "    # Test H5 and TFLite models\n",
    "    test_h5_model( h5_model_path , test_image_path )\n",
    "    test_tflite_model(tflite_model_path, test_image_path)\n",
    "\n",
    "\n"
   ]
  },
  {
   "cell_type": "code",
   "execution_count": null,
   "id": "26e582ab-d2a7-4937-a1c4-fa72f5c55e47",
   "metadata": {},
   "outputs": [],
   "source": [
    "   "
   ]
  },
  {
   "cell_type": "code",
   "execution_count": null,
   "id": "feb14bb1-e045-406b-a6be-9f1f2ebb0523",
   "metadata": {},
   "outputs": [],
   "source": []
  },
  {
   "cell_type": "code",
   "execution_count": null,
   "id": "3dd0ab47-088f-4ef6-aeca-aaae51ffb337",
   "metadata": {},
   "outputs": [],
   "source": []
  }
 ],
 "metadata": {
  "kernelspec": {
   "display_name": "Python 3 (ipykernel)",
   "language": "python",
   "name": "python3"
  },
  "language_info": {
   "codemirror_mode": {
    "name": "ipython",
    "version": 3
   },
   "file_extension": ".py",
   "mimetype": "text/x-python",
   "name": "python",
   "nbconvert_exporter": "python",
   "pygments_lexer": "ipython3",
   "version": "3.12.4"
  }
 },
 "nbformat": 4,
 "nbformat_minor": 5
}
